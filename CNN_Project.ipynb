{
 "cells": [
  {
   "cell_type": "markdown",
   "id": "519d2915",
   "metadata": {},
   "source": [
    "# 🚀  Comparison of CNN Architectures on Different Datasets\n"
   ]
  },
  {
   "cell_type": "markdown",
   "id": "806ecb5a",
   "metadata": {},
   "source": [
    "This notebook compares CNN architectures (**AlexNet, VGG16, GoogLeNet, ResNet18, Xception, SENet**) on three datasets (**MNIST, FMNIST, CIFAR-10**) using:\n",
    "\n",
    "- ✅ Subset-based training (30%)\n",
    "- ✅ `torch.compile` for optimization\n",
    "- ✅ AMP (Automatic Mixed Precision)\n",
    "- ✅ Summary tables for accuracy and F1-score"
   ]
  },
  {
   "cell_type": "code",
   "execution_count": null,
   "id": "bda0c562",
   "metadata": {},
   "outputs": [],
   "source": [
    "!pip install timm"
   ]
  },
  {
   "cell_type": "code",
   "execution_count": null,
   "id": "f6fb98f1",
   "metadata": {},
   "outputs": [],
   "source": [
    "\n",
    "import torch\n",
    "import torch.nn as nn\n",
    "import torch.optim as optim\n",
    "from torchvision import datasets, transforms, models\n",
    "from torch.utils.data import DataLoader, Subset\n",
    "from sklearn.metrics import classification_report, confusion_matrix\n",
    "import matplotlib.pyplot as plt\n",
    "import seaborn as sns\n",
    "import numpy as np\n",
    "import timm\n",
    "from collections import defaultdict\n",
    "from torch.cuda.amp import autocast, GradScaler\n",
    "device = torch.device(\"cuda\" if torch.cuda.is_available() else \"cpu\")\n"
   ]
  },
  {
   "cell_type": "code",
   "execution_count": null,
   "id": "ae75f225",
   "metadata": {},
   "outputs": [],
   "source": [
    "\n",
    "transform_common = transforms.Compose([\n",
    "    transforms.Resize((224, 224)),\n",
    "    transforms.Grayscale(num_output_channels=3),\n",
    "    transforms.ToTensor(),\n",
    "    transforms.Normalize([0.485, 0.456, 0.406],\n",
    "                         [0.229, 0.224, 0.225])\n",
    "])\n",
    "\n",
    "transform_cifar = transforms.Compose([\n",
    "    transforms.Resize((224, 224)),\n",
    "    transforms.ToTensor(),\n",
    "    transforms.Normalize([0.485, 0.456, 0.406],\n",
    "                         [0.229, 0.224, 0.225])\n",
    "])\n",
    "\n",
    "datasets_dict = {\n",
    "    \"MNIST\": {\n",
    "        \"train\": datasets.MNIST(root=\"./data\", train=True, download=True, transform=transform_common),\n",
    "        \"test\": datasets.MNIST(root=\"./data\", train=False, download=True, transform=transform_common)\n",
    "    },\n",
    "    \"FMNIST\": {\n",
    "        \"train\": datasets.FashionMNIST(root=\"./data\", train=True, download=True, transform=transform_common),\n",
    "        \"test\": datasets.FashionMNIST(root=\"./data\", train=False, download=True, transform=transform_common)\n",
    "    },\n",
    "    \"CIFAR10\": {\n",
    "        \"train\": datasets.CIFAR10(root=\"./data\", train=True, download=True, transform=transform_cifar),\n",
    "        \"test\": datasets.CIFAR10(root=\"./data\", train=False, download=True, transform=transform_cifar)\n",
    "    }\n",
    "}\n"
   ]
  },
  {
   "cell_type": "code",
   "execution_count": null,
   "id": "2c3d25b0",
   "metadata": {},
   "outputs": [],
   "source": [
    "\n",
    "def get_subset_loader(dataset, percent=0.3, batch_size=32):\n",
    "    subset_len = int(len(dataset) * percent)\n",
    "    subset = Subset(dataset, list(range(subset_len)))\n",
    "    return DataLoader(subset, batch_size=batch_size, shuffle=True)\n"
   ]
  },
  {
   "cell_type": "code",
   "execution_count": null,
   "id": "b9c1e2c4",
   "metadata": {},
   "outputs": [],
   "source": [
    "\n",
    "def get_model(name, num_classes=10):\n",
    "    if name == \"alexnet\":\n",
    "        model = models.alexnet(weights=models.AlexNet_Weights.DEFAULT)\n",
    "        model.classifier[6] = nn.Linear(model.classifier[6].in_features, num_classes)\n",
    "    elif name == \"vgg16\":\n",
    "        model = models.vgg16(weights=models.VGG16_Weights.DEFAULT)\n",
    "        model.classifier[6] = nn.Linear(model.classifier[6].in_features, num_classes)\n",
    "    elif name == \"googlenet\":\n",
    "        model = models.googlenet(weights=models.GoogLeNet_Weights.DEFAULT)\n",
    "        model.fc = nn.Linear(model.fc.in_features, num_classes)\n",
    "    elif name == \"resnet18\":\n",
    "        model = models.resnet18(weights=models.ResNet18_Weights.DEFAULT)\n",
    "        model.fc = nn.Linear(model.fc.in_features, num_classes)\n",
    "    elif name == \"xception\":\n",
    "        model = timm.create_model('xception', pretrained=True)\n",
    "        model.reset_classifier(num_classes)\n",
    "    elif name == \"senet\":\n",
    "        model = timm.create_model('seresnet18', pretrained=True)\n",
    "        model.reset_classifier(num_classes)\n",
    "    else:\n",
    "        raise ValueError(\"Unsupported model name\")\n",
    "    return torch.compile(model)\n"
   ]
  },
  {
   "cell_type": "code",
   "execution_count": null,
   "id": "a722de29",
   "metadata": {},
   "outputs": [],
   "source": [
    "\n",
    "def train_model(model, loader, optimizer, criterion, device, epochs=3):\n",
    "    model.to(device)\n",
    "    model.train()\n",
    "    scaler = GradScaler()\n",
    "    for epoch in range(epochs):\n",
    "        total_loss = 0.0\n",
    "        for inputs, labels in loader:\n",
    "            inputs, labels = inputs.to(device), labels.to(device)\n",
    "            optimizer.zero_grad()\n",
    "            with autocast():\n",
    "                outputs = model(inputs)\n",
    "                loss = criterion(outputs, labels)\n",
    "            scaler.scale(loss).backward()\n",
    "            scaler.step(optimizer)\n",
    "            scaler.update()\n",
    "            total_loss += loss.item()\n",
    "        print(f\"Epoch {epoch+1}, Loss: {total_loss/len(loader):.4f}\")\n",
    "\n",
    "def evaluate_model(model, loader, device):\n",
    "    model.to(device)\n",
    "    model.eval()\n",
    "    y_true, y_pred = [], []\n",
    "    with torch.no_grad():\n",
    "        for inputs, labels in loader:\n",
    "            inputs, labels = inputs.to(device), labels.to(device)\n",
    "            outputs = model(inputs)\n",
    "            _, preds = torch.max(outputs, 1)\n",
    "            y_true.extend(labels.cpu().numpy())\n",
    "            y_pred.extend(preds.cpu().numpy())\n",
    "    report = classification_report(y_true, y_pred, output_dict=True)\n",
    "    return report\n"
   ]
  },
  {
   "cell_type": "markdown",
   "id": "f5ae0ebc",
   "metadata": {},
   "source": [
    "## 🌀 Training Loop & Summary Table"
   ]
  },
  {
   "cell_type": "code",
   "execution_count": null,
   "id": "ee63988f",
   "metadata": {},
   "outputs": [],
   "source": [
    "\n",
    "results = defaultdict(dict)\n",
    "datasets_to_run = [\"MNIST\", \"FMNIST\", \"CIFAR10\"]\n",
    "models_to_run = [\"alexnet\", \"vgg16\", \"googlenet\", \"resnet18\", \"xception\", \"senet\"]\n",
    "\n",
    "for dataset_name in datasets_to_run:\n",
    "    print(f\"\\n=== Dataset: {dataset_name} ===\")\n",
    "    train_loader = get_subset_loader(datasets_dict[dataset_name][\"train\"])\n",
    "    test_loader = DataLoader(datasets_dict[dataset_name][\"test\"], batch_size=32)\n",
    "\n",
    "    for model_name in models_to_run:\n",
    "        print(f\"\\n→ Training {model_name} on {dataset_name}\")\n",
    "        model = get_model(model_name)\n",
    "        optimizer = optim.Adam(model.parameters(), lr=0.001)\n",
    "        criterion = nn.CrossEntropyLoss()\n",
    "\n",
    "        train_model(model, train_loader, optimizer, criterion, device, epochs=3)\n",
    "\n",
    "        print(f\"→ Evaluating {model_name} on {dataset_name}\")\n",
    "        report = evaluate_model(model, test_loader, device)\n",
    "        results[dataset_name][model_name] = report\n"
   ]
  },
  {
   "cell_type": "code",
   "execution_count": null,
   "id": "8e6e366c",
   "metadata": {},
   "outputs": [],
   "source": [
    "\n",
    "print(\"\\n\\n===== 📊 Summary Table =====\")\n",
    "for dataset in results:\n",
    "    print(f\"\\nDataset: {dataset}\")\n",
    "    for model in results[dataset]:\n",
    "        acc = results[dataset][model][\"accuracy\"]\n",
    "        f1 = results[dataset][model][\"weighted avg\"][\"f1-score\"]\n",
    "        print(f\"{model:10} | Accuracy: {acc:.4f} | F1-score: {f1:.4f}\")\n"
   ]
  }
 ],
 "metadata": {
  "language_info": {
   "name": "python"
  }
 },
 "nbformat": 4,
 "nbformat_minor": 5
}
